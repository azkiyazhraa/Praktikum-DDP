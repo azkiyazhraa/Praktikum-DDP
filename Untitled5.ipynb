{
  "nbformat": 4,
  "nbformat_minor": 0,
  "metadata": {
    "colab": {
      "provenance": [],
      "authorship_tag": "ABX9TyPjmrHDIYy5eF0fyL4DLUiD",
      "include_colab_link": true
    },
    "kernelspec": {
      "name": "python3",
      "display_name": "Python 3"
    },
    "language_info": {
      "name": "python"
    }
  },
  "cells": [
    {
      "cell_type": "markdown",
      "metadata": {
        "id": "view-in-github",
        "colab_type": "text"
      },
      "source": [
        "<a href=\"https://colab.research.google.com/github/azkiyazhraa/Praktikum-DDP/blob/main/Untitled5.ipynb\" target=\"_parent\"><img src=\"https://colab.research.google.com/assets/colab-badge.svg\" alt=\"Open In Colab\"/></a>"
      ]
    },
    {
      "cell_type": "code",
      "execution_count": null,
      "metadata": {
        "colab": {
          "base_uri": "https://localhost:8080/"
        },
        "id": "c8bFURfWidcU",
        "outputId": "a97b5c13-fc6a-45c5-aa00-74c6ddfa9672"
      },
      "outputs": [
        {
          "output_type": "stream",
          "name": "stdout",
          "text": [
            "Kode Kendaraan   :  b 2735 zhr\n",
            "Nama Kendaraan   :  Beat\n",
            "Merk Kendaraan   :  Honda\n",
            "Jenis Kendaraan  :  Matic\n",
            "CC Kendaraan     :  150\n",
            "Warna Kendaraan  :  Black\n",
            "Harga Kendaraan  :  30.000.000\n",
            "Jumlah Roda      :  2\n"
          ]
        }
      ],
      "source": [
        "\n",
        "kendaraan = [\"b 2735 zhr\", \"Beat\", \"150\", \"Black\"]\n",
        "kendaraan.append(\"30.000.000\")\n",
        "kendaraan.append(\"2\")\n",
        "\n",
        "kendaraan.insert(2, \"Honda\")\n",
        "kendaraan.insert(3, \"Matic\")\n",
        "\n",
        "kodekendaraan = (kendaraan[0])\n",
        "print(\"Kode Kendaraan   : \", kodekendaraan)\n",
        "namakendaraan = (kendaraan[1])\n",
        "print(\"Nama Kendaraan   : \", namakendaraan)\n",
        "merkkendaraan = (kendaraan[2])\n",
        "print(\"Merk Kendaraan   : \", merkkendaraan)\n",
        "jeniskendaraan = (kendaraan[3])\n",
        "print(\"Jenis Kendaraan  : \", jeniskendaraan)\n",
        "cckendaraan = (kendaraan[4])\n",
        "print(\"CC Kendaraan     : \", cckendaraan)\n",
        "warnakendaraan = (kendaraan[5])\n",
        "print(\"Warna Kendaraan  : \",  warnakendaraan)\n",
        "hargakendaraan = (kendaraan[6])\n",
        "print(\"Harga Kendaraan  : \", hargakendaraan)\n",
        "jumlahroda = (kendaraan[7])\n",
        "print(\"Jumlah Roda      : \", jumlahroda)"
      ]
    },
    {
      "cell_type": "code",
      "source": [
        "\n",
        "ket='''silahkan pilih rumus luas di bawah ini\n",
        "silahkan pilih\n",
        "se'1'\n",
        "1.untuk menghitung luas persegi\n",
        "2.untuk menghitung luas lingkaran\n",
        "3.untuk menghitung luas segitiga\n",
        "'''\n",
        "\n",
        "pilihan = input(ket)\n",
        "match pilihan:\n",
        "   case '1':\n",
        "      print (\"memilih rumus 1 untuk menghitung luas persegi\")\n",
        "      sisi = int(input('masukan sisi?'))\n",
        "      luas = sisi * sisi\n",
        "      print (\"luas persegi yang sisinya\")\n",
        "   case '2':\n",
        "      print ('memilih rumus 2 untuk menghitung luas lingkaran')\n",
        "      jari2 = float(input (\"masukan jari2 ?\"))\n",
        "      luasL = 3.14 * jari2 * jari2\n",
        "      print ('luas lingkaran yang jari2nya')\n",
        "   case '3':\n",
        "      print ('memilih rumus 3 untuk menghitung luas segitiga')\n",
        "      alas = int(input (\"masukan alas ?\"))\n",
        "      tinggi = int(input (\"masukan tinggi ?\"))\n",
        "      luas  = 0.5 * alas * tinggi\n",
        "      print (\"luas segitiga yang alasnya\", alas, \"tinggi\", tinggi, \"adalah\", luas)\n",
        "   case _ :\n",
        "      print (\"salah memilih pilihan\")"
      ],
      "metadata": {
        "id": "9ZAZGv-wmhyS"
      },
      "execution_count": null,
      "outputs": []
    },
    {
      "cell_type": "code",
      "source": [],
      "metadata": {
        "id": "aXzGIa7RlJnS"
      },
      "execution_count": null,
      "outputs": []
    }
  ]
}